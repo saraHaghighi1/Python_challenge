{
 "cells": [
  {
   "cell_type": "code",
   "execution_count": 2,
   "metadata": {},
   "outputs": [
    {
     "name": "stdout",
     "output_type": "stream",
     "text": [
      "Financial Analysis\n",
      "----------------------------\n",
      "Total Months: 86\n",
      "Total: $22564198\n",
      "Average Change: $4448.13\n",
      "Greatest Increase in Profits: Aug-16 ($1862002)\n",
      "Greatest Decrease in Profits: Feb-14 ($-1825558)\n"
     ]
    }
   ],
   "source": [
    "import csv\n",
    "\n",
    "\n",
    "# Define file path\n",
    "file_path = \"Resources/budget_data.csv\"\n",
    "\n",
    "# Initialize variables\n",
    "total_months = 0\n",
    "total_profit_losses = 0\n",
    "previous_profit_loss = 0\n",
    "profit_loss_changes = []\n",
    "greatest_increase = [\"\", 0]\n",
    "greatest_decrease = [\"\", 9999999999999999999]\n",
    "\n",
    "# Read the CSV file\n",
    "with open(file_path, newline=\"\") as csvfile:\n",
    "    csvreader = csv.reader(csvfile, delimiter=\",\")\n",
    "\n",
    "    # Skip the header row\n",
    "    next(csvreader)\n",
    "\n",
    "    # Loop through rows in the CSV file\n",
    "    for row in csvreader:\n",
    "        # Calculate total number of months\n",
    "        total_months += 1\n",
    "\n",
    "        # Calculate total profit/losses\n",
    "        total_profit_losses += int(row[1])\n",
    "\n",
    "        # Calculate profit/loss change\n",
    "        profit_loss_change = int(row[1]) - previous_profit_loss\n",
    "        profit_loss_changes.append(profit_loss_change)\n",
    "        previous_profit_loss = int(row[1])\n",
    "\n",
    "        # Find greatest increase in profits\n",
    "        if profit_loss_change > greatest_increase[1]:\n",
    "            greatest_increase[0] = row[0]\n",
    "            greatest_increase[1] = profit_loss_change\n",
    "\n",
    "        # Find greatest decrease in profits\n",
    "        if profit_loss_change < greatest_decrease[1]:\n",
    "            greatest_decrease[0] = row[0]\n",
    "            greatest_decrease[1] = profit_loss_change\n",
    "\n",
    "# Calculate the average of profit/loss changes\n",
    "average_change = sum(profit_loss_changes) / len(profit_loss_changes)\n",
    "\n",
    "# Output results\n",
    "print(\"Financial Analysis\")\n",
    "print(\"----------------------------\")\n",
    "print(f\"Total Months: {total_months}\")\n",
    "print(f\"Total: ${total_profit_losses}\")\n",
    "print(f\"Average Change: ${average_change:.2f}\")\n",
    "print(f\"Greatest Increase in Profits: {greatest_increase[0]} (${greatest_increase[1]})\")\n",
    "print(f\"Greatest Decrease in Profits: {greatest_decrease[0]} (${greatest_decrease[1]})\")\n"
   ]
  },
  {
   "cell_type": "code",
   "execution_count": null,
   "metadata": {},
   "outputs": [],
   "source": []
  }
 ],
 "metadata": {
  "kernelspec": {
   "display_name": "Python 3",
   "language": "python",
   "name": "python3"
  },
  "language_info": {
   "codemirror_mode": {
    "name": "ipython",
    "version": 3
   },
   "file_extension": ".py",
   "mimetype": "text/x-python",
   "name": "python",
   "nbconvert_exporter": "python",
   "pygments_lexer": "ipython3",
   "version": "3.8.3"
  }
 },
 "nbformat": 4,
 "nbformat_minor": 4
}
